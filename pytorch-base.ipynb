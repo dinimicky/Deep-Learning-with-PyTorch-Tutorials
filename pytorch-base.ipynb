{
 "cells": [
  {
   "cell_type": "code",
   "execution_count": 67,
   "metadata": {},
   "outputs": [
    {
     "data": {
      "text/plain": [
       "'2.0.1'"
      ]
     },
     "execution_count": 67,
     "metadata": {},
     "output_type": "execute_result"
    }
   ],
   "source": [
    "import torch\n",
    "from torch.nn import functional as F\n",
    "torch.__version__"
   ]
  },
  {
   "cell_type": "code",
   "execution_count": 4,
   "metadata": {},
   "outputs": [],
   "source": [
    "a = torch.rand(4,3,32,32)\n",
    "b = torch.rand(1,1,32,1)"
   ]
  },
  {
   "cell_type": "code",
   "execution_count": 11,
   "metadata": {},
   "outputs": [
    {
     "data": {
      "text/plain": [
       "torch.Size([4, 1, 2048, 1])"
      ]
     },
     "execution_count": 11,
     "metadata": {},
     "output_type": "execute_result"
    }
   ],
   "source": [
    "b.repeat(4,1,64,1).shape\n"
   ]
  },
  {
   "cell_type": "code",
   "execution_count": 12,
   "metadata": {},
   "outputs": [
    {
     "data": {
      "text/plain": [
       "torch.Size([4, 32, 32, 3])"
      ]
     },
     "execution_count": 12,
     "metadata": {},
     "output_type": "execute_result"
    }
   ],
   "source": [
    "a.transpose(1,3).shape"
   ]
  },
  {
   "cell_type": "code",
   "execution_count": 13,
   "metadata": {},
   "outputs": [
    {
     "data": {
      "text/plain": [
       "torch.Size([4, 32, 32, 3])"
      ]
     },
     "execution_count": 13,
     "metadata": {},
     "output_type": "execute_result"
    }
   ],
   "source": [
    "a.permute(0,2,3,1).shape"
   ]
  },
  {
   "cell_type": "code",
   "execution_count": 15,
   "metadata": {},
   "outputs": [
    {
     "data": {
      "text/plain": [
       "torch.Size([4, 3, 32, 32])"
      ]
     },
     "execution_count": 15,
     "metadata": {},
     "output_type": "execute_result"
    }
   ],
   "source": [
    "(a + b).shape"
   ]
  },
  {
   "cell_type": "code",
   "execution_count": 41,
   "metadata": {},
   "outputs": [
    {
     "name": "stdout",
     "output_type": "stream",
     "text": [
      "torch.Size([4, 32, 8])\n",
      "torch.Size([2, 32, 8])\n",
      "==========\n",
      "torch.Size([2, 32, 8])\n",
      "torch.Size([2, 32, 8])\n",
      "torch.Size([2, 32, 8])\n"
     ]
    }
   ],
   "source": [
    "b=torch.rand(32,8)\n",
    "a=torch.rand(32,8)\n",
    "c=torch.stack([a,b,a,b,a,b], dim=0)\n",
    "\n",
    "for i in c.split(4, dim=0):\n",
    "    print(i.shape)\n",
    "\n",
    "print(\"=\"*10)    \n",
    "for i in c.chunk(3, dim=0):\n",
    "    print(i.shape)"
   ]
  },
  {
   "cell_type": "code",
   "execution_count": null,
   "metadata": {},
   "outputs": [],
   "source": []
  },
  {
   "cell_type": "code",
   "execution_count": 43,
   "metadata": {},
   "outputs": [
    {
     "name": "stdout",
     "output_type": "stream",
     "text": [
      "tensor(True)\n",
      "tensor(True)\n",
      "tensor(True)\n",
      "tensor(True)\n",
      "tensor(True)\n",
      "tensor(True)\n"
     ]
    }
   ],
   "source": [
    "print(\n",
    "torch.all(torch.eq(a+b, torch.add(a, b))),\n",
    "torch.all(torch.eq(a-b, torch.sub(a, b))),\n",
    "torch.all(torch.eq(a*b, torch.mul(a, b))),\n",
    "torch.all(torch.eq(a/b, torch.div(a, b))),\n",
    "torch.all(torch.eq(a@b.t(), torch.mm(a, b.t()))),\n",
    "torch.all(torch.eq(a@b.t(), torch.matmul(a, b.t()))),\n",
    "sep='\\n'\n",
    ")"
   ]
  },
  {
   "cell_type": "code",
   "execution_count": 50,
   "metadata": {},
   "outputs": [
    {
     "name": "stdout",
     "output_type": "stream",
     "text": [
      "tensor(5.7943)\n",
      "tensor(12.1125)\n",
      "tensor(8.8097)\n",
      "tensor([[10.0000, 12.1125, 11.6315],\n",
      "        [10.0000, 10.0000, 10.9744]])\n",
      "tensor([[ 5.7943, 10.0000, 10.0000],\n",
      "        [ 5.8483,  8.8097, 10.0000]])\n"
     ]
    }
   ],
   "source": [
    "grad = torch.rand(2,3)*15\n",
    "print(\n",
    "    grad.min(),\n",
    "    grad.max(),\n",
    "    grad.median(),\n",
    "    grad.clamp(10),\n",
    "    grad.clamp(0,10),\n",
    "    sep='\\n',\n",
    ")"
   ]
  },
  {
   "cell_type": "code",
   "execution_count": 61,
   "metadata": {},
   "outputs": [
    {
     "name": "stdout",
     "output_type": "stream",
     "text": [
      "tensor([1., 1., 1., 1., 1., 1., 1., 1.])\n",
      "tensor([[1., 1., 1., 1.],\n",
      "        [1., 1., 1., 1.]])\n",
      "tensor([[[1., 1.],\n",
      "         [1., 1.]],\n",
      "\n",
      "        [[1., 1.],\n",
      "         [1., 1.]]])\n",
      "tensor(8.)\n",
      "tensor(8.)\n",
      "tensor(8.)\n",
      "tensor(2.8284)\n",
      "tensor(2.8284)\n",
      "tensor(2.8284)\n",
      "tensor([4., 4.])\n",
      "tensor([2., 2., 2., 2.])\n",
      "tensor([2., 2.])\n",
      "tensor([[2., 2.],\n",
      "        [2., 2.]])\n"
     ]
    }
   ],
   "source": [
    "a=torch.full([8],1.)\n",
    "b=a.view(2,4)\n",
    "c=a.view(2,2,2)\n",
    "\n",
    "print(a,b,c, \n",
    "      a.norm(1),\n",
    "      b.norm(1),\n",
    "      c.norm(1),      \n",
    "      a.norm(2),\n",
    "      b.norm(2),\n",
    "      c.norm(2),\n",
    "      b.norm(1, dim=1),\n",
    "      b.norm(1, dim=0),\n",
    "      b.norm(2, dim=1),\n",
    "      c.norm(1, dim=0),\n",
    "      sep='\\n')"
   ]
  },
  {
   "cell_type": "code",
   "execution_count": 75,
   "metadata": {},
   "outputs": [
    {
     "name": "stdout",
     "output_type": "stream",
     "text": [
      "tensor([1.]) tensor([2.])\n",
      "tensor(1.)\n",
      "tensor([2.], requires_grad=True)\n",
      "(tensor([2.]),)\n",
      "tensor([2.])\n"
     ]
    }
   ],
   "source": [
    "x=torch.ones(1)\n",
    "w=torch.full([1],2.)\n",
    "print(x, w)\n",
    "mse = F.mse_loss(torch.ones(1), x*w)\n",
    "print(mse)\n",
    "print(w.requires_grad_())\n",
    "mse = F.mse_loss(torch.ones(1), x*w)\n",
    "print(torch.autograd.grad(mse, [w]))\n",
    "mse = F.mse_loss(torch.ones(1), x*w)\n",
    "mse.backward()\n",
    "print(w.grad)"
   ]
  },
  {
   "cell_type": "code",
   "execution_count": 122,
   "metadata": {},
   "outputs": [
    {
     "name": "stdout",
     "output_type": "stream",
     "text": [
      "tensor([0.2576, 0.9601, 0.5049], requires_grad=True)\n",
      "tensor([-0.1092,  0.2491, -0.1399])\n",
      "tensor([-0.1785,  0.1092,  0.0693])\n",
      "(tensor([-0.1092,  0.2491, -0.1399]),)\n",
      "(tensor([-0.0693, -0.1399,  0.2091]),)\n",
      "tensor([-0.1785,  0.1092,  0.0693])\n"
     ]
    }
   ],
   "source": [
    "a=torch.rand(3)\n",
    "a.requires_grad_()\n",
    "print(a)\n",
    "p=F.softmax(a,dim=0)\n",
    "\n",
    "# p[0].backward(retain_graph=True)\n",
    "# print(a.grad)\n",
    "p[1].backward(retain_graph=True)\n",
    "print(a.grad)\n",
    "p[2].backward(retain_graph=True)\n",
    "print(a.grad)\n",
    "\n",
    "\n",
    "p=F.softmax(a,dim=0)\n",
    "\n",
    "# print(torch.autograd.grad(p[0], [a], retain_graph=True))\n",
    "g1 = torch.autograd.grad(p[1], [a], retain_graph=True)\n",
    "print(g1)\n",
    "g2 = torch.autograd.grad(p[2], [a], retain_graph=True)\n",
    "print(g2)\n",
    "print(g1[0]+g2[0])"
   ]
  }
 ],
 "metadata": {
  "kernelspec": {
   "display_name": "torchenv",
   "language": "python",
   "name": "python3"
  },
  "language_info": {
   "codemirror_mode": {
    "name": "ipython",
    "version": 3
   },
   "file_extension": ".py",
   "mimetype": "text/x-python",
   "name": "python",
   "nbconvert_exporter": "python",
   "pygments_lexer": "ipython3",
   "version": "3.11.4"
  },
  "orig_nbformat": 4
 },
 "nbformat": 4,
 "nbformat_minor": 2
}
